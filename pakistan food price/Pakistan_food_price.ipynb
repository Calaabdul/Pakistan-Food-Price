{
 "cells": [
  {
   "cell_type": "markdown",
   "id": "7351f8a6-4e4b-40ec-9139-cb625c63b834",
   "metadata": {},
   "source": [
    "### Import Libraries"
   ]
  },
  {
   "cell_type": "code",
   "execution_count": 58,
   "id": "c97df3c5-d0ea-4574-96e6-1179a573e6a3",
   "metadata": {},
   "outputs": [],
   "source": [
    "import numpy as np\n",
    "import pandas as pd\n",
    "import matplotlib.pyplot as plt\n",
    "import seaborn as sns"
   ]
  },
  {
   "cell_type": "markdown",
   "id": "5670bc23-24ee-43bf-b6a2-97574099cc44",
   "metadata": {},
   "source": [
    "# Data Preparation"
   ]
  },
  {
   "cell_type": "code",
   "execution_count": 2,
   "id": "a9fd9832-b5f6-4cf6-a7fb-b98e478b05ef",
   "metadata": {},
   "outputs": [],
   "source": [
    "# read csv\n",
    "pakistan_df = pd.read_csv('pakistan_food_price.csv')"
   ]
  },
  {
   "cell_type": "markdown",
   "id": "1d74b0d1-c524-4c52-a376-6fa6889e3c03",
   "metadata": {},
   "source": [
    "DATA DICTIONARY\n",
    "data was collected over 15 years (2004-2019)"
   ]
  },
  {
   "cell_type": "code",
   "execution_count": 3,
   "id": "9f03dd1a-330d-42d7-b4e1-0a141993a313",
   "metadata": {},
   "outputs": [
    {
     "data": {
      "text/html": [
       "<div>\n",
       "<style scoped>\n",
       "    .dataframe tbody tr th:only-of-type {\n",
       "        vertical-align: middle;\n",
       "    }\n",
       "\n",
       "    .dataframe tbody tr th {\n",
       "        vertical-align: top;\n",
       "    }\n",
       "\n",
       "    .dataframe thead th {\n",
       "        text-align: right;\n",
       "    }\n",
       "</style>\n",
       "<table border=\"1\" class=\"dataframe\">\n",
       "  <thead>\n",
       "    <tr style=\"text-align: right;\">\n",
       "      <th></th>\n",
       "      <th>date</th>\n",
       "      <th>cmname</th>\n",
       "      <th>unit</th>\n",
       "      <th>category</th>\n",
       "      <th>price</th>\n",
       "      <th>currency</th>\n",
       "      <th>country</th>\n",
       "      <th>admname</th>\n",
       "      <th>adm1id</th>\n",
       "      <th>mktname</th>\n",
       "      <th>mktid</th>\n",
       "      <th>cmid</th>\n",
       "      <th>ptid</th>\n",
       "      <th>umid</th>\n",
       "      <th>catid</th>\n",
       "      <th>sn</th>\n",
       "    </tr>\n",
       "  </thead>\n",
       "  <tbody>\n",
       "    <tr>\n",
       "      <th>0</th>\n",
       "      <td>1/15/2004</td>\n",
       "      <td>Wheat flour - Retail</td>\n",
       "      <td>KG</td>\n",
       "      <td>cereals and tubers</td>\n",
       "      <td>13.00</td>\n",
       "      <td>PKR</td>\n",
       "      <td>Pakistan</td>\n",
       "      <td>Balochistan</td>\n",
       "      <td>2272</td>\n",
       "      <td>Quetta</td>\n",
       "      <td>295</td>\n",
       "      <td>58</td>\n",
       "      <td>15</td>\n",
       "      <td>5</td>\n",
       "      <td>1</td>\n",
       "      <td>295_58_15_5</td>\n",
       "    </tr>\n",
       "    <tr>\n",
       "      <th>1</th>\n",
       "      <td>2/15/2004</td>\n",
       "      <td>Wheat flour - Retail</td>\n",
       "      <td>KG</td>\n",
       "      <td>cereals and tubers</td>\n",
       "      <td>13.00</td>\n",
       "      <td>PKR</td>\n",
       "      <td>Pakistan</td>\n",
       "      <td>Balochistan</td>\n",
       "      <td>2272</td>\n",
       "      <td>Quetta</td>\n",
       "      <td>295</td>\n",
       "      <td>58</td>\n",
       "      <td>15</td>\n",
       "      <td>5</td>\n",
       "      <td>1</td>\n",
       "      <td>295_58_15_5</td>\n",
       "    </tr>\n",
       "    <tr>\n",
       "      <th>2</th>\n",
       "      <td>3/15/2004</td>\n",
       "      <td>Wheat flour - Retail</td>\n",
       "      <td>KG</td>\n",
       "      <td>cereals and tubers</td>\n",
       "      <td>14.25</td>\n",
       "      <td>PKR</td>\n",
       "      <td>Pakistan</td>\n",
       "      <td>Balochistan</td>\n",
       "      <td>2272</td>\n",
       "      <td>Quetta</td>\n",
       "      <td>295</td>\n",
       "      <td>58</td>\n",
       "      <td>15</td>\n",
       "      <td>5</td>\n",
       "      <td>1</td>\n",
       "      <td>295_58_15_5</td>\n",
       "    </tr>\n",
       "    <tr>\n",
       "      <th>3</th>\n",
       "      <td>4/15/2004</td>\n",
       "      <td>Wheat flour - Retail</td>\n",
       "      <td>KG</td>\n",
       "      <td>cereals and tubers</td>\n",
       "      <td>12.50</td>\n",
       "      <td>PKR</td>\n",
       "      <td>Pakistan</td>\n",
       "      <td>Balochistan</td>\n",
       "      <td>2272</td>\n",
       "      <td>Quetta</td>\n",
       "      <td>295</td>\n",
       "      <td>58</td>\n",
       "      <td>15</td>\n",
       "      <td>5</td>\n",
       "      <td>1</td>\n",
       "      <td>295_58_15_5</td>\n",
       "    </tr>\n",
       "    <tr>\n",
       "      <th>4</th>\n",
       "      <td>5/15/2004</td>\n",
       "      <td>Wheat flour - Retail</td>\n",
       "      <td>KG</td>\n",
       "      <td>cereals and tubers</td>\n",
       "      <td>13.25</td>\n",
       "      <td>PKR</td>\n",
       "      <td>Pakistan</td>\n",
       "      <td>Balochistan</td>\n",
       "      <td>2272</td>\n",
       "      <td>Quetta</td>\n",
       "      <td>295</td>\n",
       "      <td>58</td>\n",
       "      <td>15</td>\n",
       "      <td>5</td>\n",
       "      <td>1</td>\n",
       "      <td>295_58_15_5</td>\n",
       "    </tr>\n",
       "  </tbody>\n",
       "</table>\n",
       "</div>"
      ],
      "text/plain": [
       "        date                cmname unit            category  price currency  \\\n",
       "0  1/15/2004  Wheat flour - Retail   KG  cereals and tubers  13.00      PKR   \n",
       "1  2/15/2004  Wheat flour - Retail   KG  cereals and tubers  13.00      PKR   \n",
       "2  3/15/2004  Wheat flour - Retail   KG  cereals and tubers  14.25      PKR   \n",
       "3  4/15/2004  Wheat flour - Retail   KG  cereals and tubers  12.50      PKR   \n",
       "4  5/15/2004  Wheat flour - Retail   KG  cereals and tubers  13.25      PKR   \n",
       "\n",
       "    country      admname  adm1id mktname  mktid  cmid  ptid  umid  catid  \\\n",
       "0  Pakistan  Balochistan    2272  Quetta    295    58    15     5      1   \n",
       "1  Pakistan  Balochistan    2272  Quetta    295    58    15     5      1   \n",
       "2  Pakistan  Balochistan    2272  Quetta    295    58    15     5      1   \n",
       "3  Pakistan  Balochistan    2272  Quetta    295    58    15     5      1   \n",
       "4  Pakistan  Balochistan    2272  Quetta    295    58    15     5      1   \n",
       "\n",
       "            sn  \n",
       "0  295_58_15_5  \n",
       "1  295_58_15_5  \n",
       "2  295_58_15_5  \n",
       "3  295_58_15_5  \n",
       "4  295_58_15_5  "
      ]
     },
     "execution_count": 3,
     "metadata": {},
     "output_type": "execute_result"
    }
   ],
   "source": [
    "pakistan_df.head()"
   ]
  },
  {
   "cell_type": "code",
   "execution_count": 4,
   "id": "dc7a659b-9e49-407a-8be9-9c2550bcd47c",
   "metadata": {},
   "outputs": [
    {
     "name": "stdout",
     "output_type": "stream",
     "text": [
      "<class 'pandas.core.frame.DataFrame'>\n",
      "RangeIndex: 7662 entries, 0 to 7661\n",
      "Data columns (total 16 columns):\n",
      " #   Column    Non-Null Count  Dtype  \n",
      "---  ------    --------------  -----  \n",
      " 0   date      7662 non-null   object \n",
      " 1   cmname    7662 non-null   object \n",
      " 2   unit      7662 non-null   object \n",
      " 3   category  7662 non-null   object \n",
      " 4   price     7662 non-null   float64\n",
      " 5   currency  7662 non-null   object \n",
      " 6   country   7662 non-null   object \n",
      " 7   admname   7662 non-null   object \n",
      " 8   adm1id    7662 non-null   int64  \n",
      " 9   mktname   7662 non-null   object \n",
      " 10  mktid     7662 non-null   int64  \n",
      " 11  cmid      7662 non-null   int64  \n",
      " 12  ptid      7662 non-null   int64  \n",
      " 13  umid      7662 non-null   int64  \n",
      " 14  catid     7662 non-null   int64  \n",
      " 15  sn        7662 non-null   object \n",
      "dtypes: float64(1), int64(6), object(9)\n",
      "memory usage: 957.9+ KB\n"
     ]
    }
   ],
   "source": [
    "pakistan_df.info()"
   ]
  },
  {
   "cell_type": "code",
   "execution_count": 5,
   "id": "f04416dc-ca2a-4525-aff3-074d9964cbfb",
   "metadata": {},
   "outputs": [],
   "source": [
    "# check the wrong data types\n",
    "pakistan_df['date'] = pd.to_datetime(pakistan_df['date'])"
   ]
  },
  {
   "cell_type": "code",
   "execution_count": 6,
   "id": "6648ef35-0f77-4ffd-b60c-cc1eb2d3f414",
   "metadata": {},
   "outputs": [
    {
     "data": {
      "text/plain": [
       "date        datetime64[ns]\n",
       "cmname              object\n",
       "unit                object\n",
       "category            object\n",
       "price              float64\n",
       "currency            object\n",
       "country             object\n",
       "admname             object\n",
       "adm1id               int64\n",
       "mktname             object\n",
       "mktid                int64\n",
       "cmid                 int64\n",
       "ptid                 int64\n",
       "umid                 int64\n",
       "catid                int64\n",
       "sn                  object\n",
       "dtype: object"
      ]
     },
     "execution_count": 6,
     "metadata": {},
     "output_type": "execute_result"
    }
   ],
   "source": [
    "pakistan_df.dtypes"
   ]
  },
  {
   "cell_type": "code",
   "execution_count": 7,
   "id": "8cd4d5dc-01a9-4b6a-a209-349eea6299ca",
   "metadata": {},
   "outputs": [
    {
     "data": {
      "text/html": [
       "<div>\n",
       "<style scoped>\n",
       "    .dataframe tbody tr th:only-of-type {\n",
       "        vertical-align: middle;\n",
       "    }\n",
       "\n",
       "    .dataframe tbody tr th {\n",
       "        vertical-align: top;\n",
       "    }\n",
       "\n",
       "    .dataframe thead th {\n",
       "        text-align: right;\n",
       "    }\n",
       "</style>\n",
       "<table border=\"1\" class=\"dataframe\">\n",
       "  <thead>\n",
       "    <tr style=\"text-align: right;\">\n",
       "      <th></th>\n",
       "      <th>date</th>\n",
       "      <th>price</th>\n",
       "      <th>adm1id</th>\n",
       "      <th>mktid</th>\n",
       "      <th>cmid</th>\n",
       "      <th>ptid</th>\n",
       "      <th>umid</th>\n",
       "      <th>catid</th>\n",
       "    </tr>\n",
       "  </thead>\n",
       "  <tbody>\n",
       "    <tr>\n",
       "      <th>count</th>\n",
       "      <td>7662</td>\n",
       "      <td>7662.000000</td>\n",
       "      <td>7662.000000</td>\n",
       "      <td>7662.000000</td>\n",
       "      <td>7662.000000</td>\n",
       "      <td>7662.0</td>\n",
       "      <td>7662.000000</td>\n",
       "      <td>7662.000000</td>\n",
       "    </tr>\n",
       "    <tr>\n",
       "      <th>mean</th>\n",
       "      <td>2014-12-01 13:17:03.335943680</td>\n",
       "      <td>106.919688</td>\n",
       "      <td>2275.241321</td>\n",
       "      <td>292.975333</td>\n",
       "      <td>140.657270</td>\n",
       "      <td>15.0</td>\n",
       "      <td>9.745236</td>\n",
       "      <td>3.488906</td>\n",
       "    </tr>\n",
       "    <tr>\n",
       "      <th>min</th>\n",
       "      <td>2004-01-15 00:00:00</td>\n",
       "      <td>9.000000</td>\n",
       "      <td>2272.000000</td>\n",
       "      <td>291.000000</td>\n",
       "      <td>58.000000</td>\n",
       "      <td>15.0</td>\n",
       "      <td>5.000000</td>\n",
       "      <td>1.000000</td>\n",
       "    </tr>\n",
       "    <tr>\n",
       "      <th>25%</th>\n",
       "      <td>2013-03-15 00:00:00</td>\n",
       "      <td>36.922500</td>\n",
       "      <td>2275.000000</td>\n",
       "      <td>292.000000</td>\n",
       "      <td>61.000000</td>\n",
       "      <td>15.0</td>\n",
       "      <td>5.000000</td>\n",
       "      <td>1.000000</td>\n",
       "    </tr>\n",
       "    <tr>\n",
       "      <th>50%</th>\n",
       "      <td>2015-12-15 00:00:00</td>\n",
       "      <td>72.730000</td>\n",
       "      <td>2276.000000</td>\n",
       "      <td>293.000000</td>\n",
       "      <td>97.000000</td>\n",
       "      <td>15.0</td>\n",
       "      <td>5.000000</td>\n",
       "      <td>2.000000</td>\n",
       "    </tr>\n",
       "    <tr>\n",
       "      <th>75%</th>\n",
       "      <td>2017-11-15 00:00:00</td>\n",
       "      <td>138.397500</td>\n",
       "      <td>2276.000000</td>\n",
       "      <td>294.000000</td>\n",
       "      <td>138.000000</td>\n",
       "      <td>15.0</td>\n",
       "      <td>5.000000</td>\n",
       "      <td>6.000000</td>\n",
       "    </tr>\n",
       "    <tr>\n",
       "      <th>max</th>\n",
       "      <td>2019-10-15 00:00:00</td>\n",
       "      <td>997.000000</td>\n",
       "      <td>2277.000000</td>\n",
       "      <td>295.000000</td>\n",
       "      <td>465.000000</td>\n",
       "      <td>15.0</td>\n",
       "      <td>51.000000</td>\n",
       "      <td>8.000000</td>\n",
       "    </tr>\n",
       "    <tr>\n",
       "      <th>std</th>\n",
       "      <td>NaN</td>\n",
       "      <td>124.318398</td>\n",
       "      <td>1.692555</td>\n",
       "      <td>1.404504</td>\n",
       "      <td>107.135975</td>\n",
       "      <td>0.0</td>\n",
       "      <td>10.767328</td>\n",
       "      <td>2.724781</td>\n",
       "    </tr>\n",
       "  </tbody>\n",
       "</table>\n",
       "</div>"
      ],
      "text/plain": [
       "                                date        price       adm1id        mktid  \\\n",
       "count                           7662  7662.000000  7662.000000  7662.000000   \n",
       "mean   2014-12-01 13:17:03.335943680   106.919688  2275.241321   292.975333   \n",
       "min              2004-01-15 00:00:00     9.000000  2272.000000   291.000000   \n",
       "25%              2013-03-15 00:00:00    36.922500  2275.000000   292.000000   \n",
       "50%              2015-12-15 00:00:00    72.730000  2276.000000   293.000000   \n",
       "75%              2017-11-15 00:00:00   138.397500  2276.000000   294.000000   \n",
       "max              2019-10-15 00:00:00   997.000000  2277.000000   295.000000   \n",
       "std                              NaN   124.318398     1.692555     1.404504   \n",
       "\n",
       "              cmid    ptid         umid        catid  \n",
       "count  7662.000000  7662.0  7662.000000  7662.000000  \n",
       "mean    140.657270    15.0     9.745236     3.488906  \n",
       "min      58.000000    15.0     5.000000     1.000000  \n",
       "25%      61.000000    15.0     5.000000     1.000000  \n",
       "50%      97.000000    15.0     5.000000     2.000000  \n",
       "75%     138.000000    15.0     5.000000     6.000000  \n",
       "max     465.000000    15.0    51.000000     8.000000  \n",
       "std     107.135975     0.0    10.767328     2.724781  "
      ]
     },
     "execution_count": 7,
     "metadata": {},
     "output_type": "execute_result"
    }
   ],
   "source": [
    "pakistan_df.describe()"
   ]
  },
  {
   "cell_type": "code",
   "execution_count": null,
   "id": "d380880f-065b-4dfb-8e35-08404284f03a",
   "metadata": {},
   "outputs": [],
   "source": []
  },
  {
   "cell_type": "code",
   "execution_count": 8,
   "id": "9a7913d8-2698-4052-85aa-168a00f80990",
   "metadata": {},
   "outputs": [],
   "source": [
    "# remove irrelevant columns \n",
    "new_df = pakistan_df.drop(columns=['currency', 'country',\n",
    "       'admname', 'adm1id', 'mktname', 'mktid', 'cmid', 'ptid', 'umid',\n",
    "       'catid', 'sn'])"
   ]
  },
  {
   "cell_type": "code",
   "execution_count": 9,
   "id": "618d5fff-cf3c-43ab-b911-fe7b9c6fe17c",
   "metadata": {},
   "outputs": [
    {
     "name": "stdout",
     "output_type": "stream",
     "text": [
      "<class 'pandas.core.frame.DataFrame'>\n",
      "RangeIndex: 7662 entries, 0 to 7661\n",
      "Data columns (total 5 columns):\n",
      " #   Column    Non-Null Count  Dtype         \n",
      "---  ------    --------------  -----         \n",
      " 0   date      7662 non-null   datetime64[ns]\n",
      " 1   cmname    7662 non-null   object        \n",
      " 2   unit      7662 non-null   object        \n",
      " 3   category  7662 non-null   object        \n",
      " 4   price     7662 non-null   float64       \n",
      "dtypes: datetime64[ns](1), float64(1), object(3)\n",
      "memory usage: 299.4+ KB\n"
     ]
    }
   ],
   "source": [
    "new_df.info()"
   ]
  },
  {
   "cell_type": "code",
   "execution_count": 10,
   "id": "8b42191b-5c4b-442e-8353-43341dd2ef11",
   "metadata": {},
   "outputs": [
    {
     "data": {
      "text/html": [
       "<div>\n",
       "<style scoped>\n",
       "    .dataframe tbody tr th:only-of-type {\n",
       "        vertical-align: middle;\n",
       "    }\n",
       "\n",
       "    .dataframe tbody tr th {\n",
       "        vertical-align: top;\n",
       "    }\n",
       "\n",
       "    .dataframe thead th {\n",
       "        text-align: right;\n",
       "    }\n",
       "</style>\n",
       "<table border=\"1\" class=\"dataframe\">\n",
       "  <thead>\n",
       "    <tr style=\"text-align: right;\">\n",
       "      <th></th>\n",
       "      <th>date</th>\n",
       "      <th>cmname</th>\n",
       "      <th>unit</th>\n",
       "      <th>category</th>\n",
       "      <th>price</th>\n",
       "    </tr>\n",
       "  </thead>\n",
       "  <tbody>\n",
       "    <tr>\n",
       "      <th>0</th>\n",
       "      <td>2004-01-15</td>\n",
       "      <td>Wheat flour - Retail</td>\n",
       "      <td>KG</td>\n",
       "      <td>cereals and tubers</td>\n",
       "      <td>13.00</td>\n",
       "    </tr>\n",
       "    <tr>\n",
       "      <th>1</th>\n",
       "      <td>2004-02-15</td>\n",
       "      <td>Wheat flour - Retail</td>\n",
       "      <td>KG</td>\n",
       "      <td>cereals and tubers</td>\n",
       "      <td>13.00</td>\n",
       "    </tr>\n",
       "    <tr>\n",
       "      <th>2</th>\n",
       "      <td>2004-03-15</td>\n",
       "      <td>Wheat flour - Retail</td>\n",
       "      <td>KG</td>\n",
       "      <td>cereals and tubers</td>\n",
       "      <td>14.25</td>\n",
       "    </tr>\n",
       "    <tr>\n",
       "      <th>3</th>\n",
       "      <td>2004-04-15</td>\n",
       "      <td>Wheat flour - Retail</td>\n",
       "      <td>KG</td>\n",
       "      <td>cereals and tubers</td>\n",
       "      <td>12.50</td>\n",
       "    </tr>\n",
       "    <tr>\n",
       "      <th>4</th>\n",
       "      <td>2004-05-15</td>\n",
       "      <td>Wheat flour - Retail</td>\n",
       "      <td>KG</td>\n",
       "      <td>cereals and tubers</td>\n",
       "      <td>13.25</td>\n",
       "    </tr>\n",
       "  </tbody>\n",
       "</table>\n",
       "</div>"
      ],
      "text/plain": [
       "        date                cmname unit            category  price\n",
       "0 2004-01-15  Wheat flour - Retail   KG  cereals and tubers  13.00\n",
       "1 2004-02-15  Wheat flour - Retail   KG  cereals and tubers  13.00\n",
       "2 2004-03-15  Wheat flour - Retail   KG  cereals and tubers  14.25\n",
       "3 2004-04-15  Wheat flour - Retail   KG  cereals and tubers  12.50\n",
       "4 2004-05-15  Wheat flour - Retail   KG  cereals and tubers  13.25"
      ]
     },
     "execution_count": 10,
     "metadata": {},
     "output_type": "execute_result"
    }
   ],
   "source": [
    "new_df.head()"
   ]
  },
  {
   "cell_type": "code",
   "execution_count": 11,
   "id": "576bce0c-ac32-44ca-a826-02873abc25e3",
   "metadata": {},
   "outputs": [
    {
     "data": {
      "text/plain": [
       "17"
      ]
     },
     "execution_count": 11,
     "metadata": {},
     "output_type": "execute_result"
    }
   ],
   "source": [
    "# CLEAN COMMODITY NAME COLUMN \n",
    "new_df['cmname'].nunique()"
   ]
  },
  {
   "cell_type": "code",
   "execution_count": 12,
   "id": "6c877161-0449-4120-8ae2-2ee443506943",
   "metadata": {},
   "outputs": [
    {
     "data": {
      "text/plain": [
       "array(['Wheat flour - Retail', 'Rice (coarse) - Retail',\n",
       "       'Lentils (masur) - Retail', 'Milk - Retail',\n",
       "       'Oil (cooking) - Retail', 'Wheat - Retail', 'Eggs - Retail',\n",
       "       'Sugar - Retail', 'Ghee (artificial) - Retail',\n",
       "       'Rice (basmati, broken) - Retail', 'Poultry - Retail',\n",
       "       'Salt - Retail', 'Fuel (diesel) - Retail',\n",
       "       'Fuel (petrol-gasoline) - Retail', 'Lentils (moong) - Retail',\n",
       "       'Beans(mash) - Retail',\n",
       "       'Wage (non-qualified labour, non-agricultural) - Retail'],\n",
       "      dtype=object)"
      ]
     },
     "execution_count": 12,
     "metadata": {},
     "output_type": "execute_result"
    }
   ],
   "source": [
    "new_df['cmname'].unique()\n",
    "# there are observations that do not represent food"
   ]
  },
  {
   "cell_type": "code",
   "execution_count": 13,
   "id": "5ca11210-bf38-4363-ab75-731ae0d740ac",
   "metadata": {},
   "outputs": [],
   "source": [
    "# remove observations that are not food\n",
    "\n",
    "odd = ['Fuel (diesel) - Retail', 'Wage (non-qualified labour, non-agricultural) - Retail','Fuel (petrol-gasoline) - Retail']\n",
    "\n",
    "\n",
    "new_df = new_df [ ~new_df['cmname'].isin(odd) ]\n"
   ]
  },
  {
   "cell_type": "code",
   "execution_count": 14,
   "id": "c388acf9-6f6a-4dd6-b52e-b0dda1403df6",
   "metadata": {},
   "outputs": [
    {
     "data": {
      "text/plain": [
       "cmname\n",
       "Wheat flour - Retail               950\n",
       "Rice (basmati, broken) - Retail    950\n",
       "Rice (coarse) - Retail             830\n",
       "Wheat - Retail                     727\n",
       "Oil (cooking) - Retail             392\n",
       "Sugar - Retail                     392\n",
       "Poultry - Retail                   392\n",
       "Ghee (artificial) - Retail         390\n",
       "Beans(mash) - Retail               325\n",
       "Lentils (masur) - Retail           313\n",
       "Eggs - Retail                      298\n",
       "Lentils (moong) - Retail           275\n",
       "Milk - Retail                      265\n",
       "Salt - Retail                      205\n",
       "Name: count, dtype: int64"
      ]
     },
     "execution_count": 14,
     "metadata": {},
     "output_type": "execute_result"
    }
   ],
   "source": [
    "new_df['cmname'].value_counts()"
   ]
  },
  {
   "cell_type": "code",
   "execution_count": 15,
   "id": "63be1dcb-d78a-43ab-89a8-94c89839050c",
   "metadata": {},
   "outputs": [],
   "source": [
    "new_df['cmname'] = new_df['cmname'].str.split(' ', expand= True)[0].str.split('(', expand=True)[0]"
   ]
  },
  {
   "cell_type": "code",
   "execution_count": 16,
   "id": "b9cb9c95-e9b5-4550-9436-2a897fb3c4d7",
   "metadata": {},
   "outputs": [
    {
     "data": {
      "text/html": [
       "<div>\n",
       "<style scoped>\n",
       "    .dataframe tbody tr th:only-of-type {\n",
       "        vertical-align: middle;\n",
       "    }\n",
       "\n",
       "    .dataframe tbody tr th {\n",
       "        vertical-align: top;\n",
       "    }\n",
       "\n",
       "    .dataframe thead th {\n",
       "        text-align: right;\n",
       "    }\n",
       "</style>\n",
       "<table border=\"1\" class=\"dataframe\">\n",
       "  <thead>\n",
       "    <tr style=\"text-align: right;\">\n",
       "      <th></th>\n",
       "      <th>date</th>\n",
       "      <th>cmname</th>\n",
       "      <th>unit</th>\n",
       "      <th>category</th>\n",
       "      <th>price</th>\n",
       "    </tr>\n",
       "  </thead>\n",
       "  <tbody>\n",
       "    <tr>\n",
       "      <th>0</th>\n",
       "      <td>2004-01-15</td>\n",
       "      <td>Wheat</td>\n",
       "      <td>KG</td>\n",
       "      <td>cereals and tubers</td>\n",
       "      <td>13.00</td>\n",
       "    </tr>\n",
       "    <tr>\n",
       "      <th>1</th>\n",
       "      <td>2004-02-15</td>\n",
       "      <td>Wheat</td>\n",
       "      <td>KG</td>\n",
       "      <td>cereals and tubers</td>\n",
       "      <td>13.00</td>\n",
       "    </tr>\n",
       "    <tr>\n",
       "      <th>2</th>\n",
       "      <td>2004-03-15</td>\n",
       "      <td>Wheat</td>\n",
       "      <td>KG</td>\n",
       "      <td>cereals and tubers</td>\n",
       "      <td>14.25</td>\n",
       "    </tr>\n",
       "    <tr>\n",
       "      <th>3</th>\n",
       "      <td>2004-04-15</td>\n",
       "      <td>Wheat</td>\n",
       "      <td>KG</td>\n",
       "      <td>cereals and tubers</td>\n",
       "      <td>12.50</td>\n",
       "    </tr>\n",
       "    <tr>\n",
       "      <th>4</th>\n",
       "      <td>2004-05-15</td>\n",
       "      <td>Wheat</td>\n",
       "      <td>KG</td>\n",
       "      <td>cereals and tubers</td>\n",
       "      <td>13.25</td>\n",
       "    </tr>\n",
       "  </tbody>\n",
       "</table>\n",
       "</div>"
      ],
      "text/plain": [
       "        date cmname unit            category  price\n",
       "0 2004-01-15  Wheat   KG  cereals and tubers  13.00\n",
       "1 2004-02-15  Wheat   KG  cereals and tubers  13.00\n",
       "2 2004-03-15  Wheat   KG  cereals and tubers  14.25\n",
       "3 2004-04-15  Wheat   KG  cereals and tubers  12.50\n",
       "4 2004-05-15  Wheat   KG  cereals and tubers  13.25"
      ]
     },
     "execution_count": 16,
     "metadata": {},
     "output_type": "execute_result"
    }
   ],
   "source": [
    "new_df.head()"
   ]
  },
  {
   "cell_type": "code",
   "execution_count": 17,
   "id": "86ff8df8-6eb1-4ec6-ae96-489f55504f43",
   "metadata": {},
   "outputs": [
    {
     "data": {
      "text/plain": [
       "array(['Wheat', 'Rice', 'Lentils', 'Milk', 'Oil', 'Eggs', 'Sugar', 'Ghee',\n",
       "       'Poultry', 'Salt', 'Beans'], dtype=object)"
      ]
     },
     "execution_count": 17,
     "metadata": {},
     "output_type": "execute_result"
    }
   ],
   "source": [
    "new_df['cmname'].unique()"
   ]
  },
  {
   "cell_type": "code",
   "execution_count": 18,
   "id": "f0129259-7c51-48b4-b5ae-7e0b20c392d5",
   "metadata": {},
   "outputs": [
    {
     "data": {
      "text/plain": [
       "array(['KG', 'L', 'Dozen'], dtype=object)"
      ]
     },
     "execution_count": 18,
     "metadata": {},
     "output_type": "execute_result"
    }
   ],
   "source": [
    "# UNIT COLUMN\n",
    "new_df['unit'].unique()"
   ]
  },
  {
   "cell_type": "code",
   "execution_count": 19,
   "id": "7bfa33b8-9820-4b39-b6a8-d2d377e605a4",
   "metadata": {},
   "outputs": [],
   "source": [
    "# we encode the unit as we cannot accurately tell the measurement"
   ]
  },
  {
   "cell_type": "code",
   "execution_count": 20,
   "id": "5c0b7bfd-186c-43ff-b99f-4d2d7b75eadd",
   "metadata": {},
   "outputs": [
    {
     "data": {
      "text/plain": [
       "array(['cereals and tubers', 'pulses and nuts', 'milk and dairy',\n",
       "       'oil and fats', 'meat, fish and eggs', 'miscellaneous food'],\n",
       "      dtype=object)"
      ]
     },
     "execution_count": 20,
     "metadata": {},
     "output_type": "execute_result"
    }
   ],
   "source": [
    "# CATEGORY\n",
    "new_df['category'].unique()"
   ]
  },
  {
   "cell_type": "code",
   "execution_count": 21,
   "id": "af6664bc-63de-4878-9bec-2171e5c88b37",
   "metadata": {},
   "outputs": [],
   "source": [
    "# DATE\n",
    "new_df['day'] = new_df['date'].dt.day\n",
    "new_df['month'] = new_df['date'].dt.month\n",
    "new_df['year'] = new_df['date'].dt.year"
   ]
  },
  {
   "cell_type": "code",
   "execution_count": 22,
   "id": "f188374c-e764-4cc2-89ed-fca7e8f1766a",
   "metadata": {},
   "outputs": [
    {
     "data": {
      "text/html": [
       "<div>\n",
       "<style scoped>\n",
       "    .dataframe tbody tr th:only-of-type {\n",
       "        vertical-align: middle;\n",
       "    }\n",
       "\n",
       "    .dataframe tbody tr th {\n",
       "        vertical-align: top;\n",
       "    }\n",
       "\n",
       "    .dataframe thead th {\n",
       "        text-align: right;\n",
       "    }\n",
       "</style>\n",
       "<table border=\"1\" class=\"dataframe\">\n",
       "  <thead>\n",
       "    <tr style=\"text-align: right;\">\n",
       "      <th></th>\n",
       "      <th>date</th>\n",
       "      <th>cmname</th>\n",
       "      <th>unit</th>\n",
       "      <th>category</th>\n",
       "      <th>price</th>\n",
       "      <th>day</th>\n",
       "      <th>month</th>\n",
       "      <th>year</th>\n",
       "    </tr>\n",
       "  </thead>\n",
       "  <tbody>\n",
       "    <tr>\n",
       "      <th>0</th>\n",
       "      <td>2004-01-15</td>\n",
       "      <td>Wheat</td>\n",
       "      <td>KG</td>\n",
       "      <td>cereals and tubers</td>\n",
       "      <td>13.00</td>\n",
       "      <td>15</td>\n",
       "      <td>1</td>\n",
       "      <td>2004</td>\n",
       "    </tr>\n",
       "    <tr>\n",
       "      <th>1</th>\n",
       "      <td>2004-02-15</td>\n",
       "      <td>Wheat</td>\n",
       "      <td>KG</td>\n",
       "      <td>cereals and tubers</td>\n",
       "      <td>13.00</td>\n",
       "      <td>15</td>\n",
       "      <td>2</td>\n",
       "      <td>2004</td>\n",
       "    </tr>\n",
       "    <tr>\n",
       "      <th>2</th>\n",
       "      <td>2004-03-15</td>\n",
       "      <td>Wheat</td>\n",
       "      <td>KG</td>\n",
       "      <td>cereals and tubers</td>\n",
       "      <td>14.25</td>\n",
       "      <td>15</td>\n",
       "      <td>3</td>\n",
       "      <td>2004</td>\n",
       "    </tr>\n",
       "    <tr>\n",
       "      <th>3</th>\n",
       "      <td>2004-04-15</td>\n",
       "      <td>Wheat</td>\n",
       "      <td>KG</td>\n",
       "      <td>cereals and tubers</td>\n",
       "      <td>12.50</td>\n",
       "      <td>15</td>\n",
       "      <td>4</td>\n",
       "      <td>2004</td>\n",
       "    </tr>\n",
       "    <tr>\n",
       "      <th>4</th>\n",
       "      <td>2004-05-15</td>\n",
       "      <td>Wheat</td>\n",
       "      <td>KG</td>\n",
       "      <td>cereals and tubers</td>\n",
       "      <td>13.25</td>\n",
       "      <td>15</td>\n",
       "      <td>5</td>\n",
       "      <td>2004</td>\n",
       "    </tr>\n",
       "  </tbody>\n",
       "</table>\n",
       "</div>"
      ],
      "text/plain": [
       "        date cmname unit            category  price  day  month  year\n",
       "0 2004-01-15  Wheat   KG  cereals and tubers  13.00   15      1  2004\n",
       "1 2004-02-15  Wheat   KG  cereals and tubers  13.00   15      2  2004\n",
       "2 2004-03-15  Wheat   KG  cereals and tubers  14.25   15      3  2004\n",
       "3 2004-04-15  Wheat   KG  cereals and tubers  12.50   15      4  2004\n",
       "4 2004-05-15  Wheat   KG  cereals and tubers  13.25   15      5  2004"
      ]
     },
     "execution_count": 22,
     "metadata": {},
     "output_type": "execute_result"
    }
   ],
   "source": [
    "new_df.head()"
   ]
  },
  {
   "cell_type": "code",
   "execution_count": 23,
   "id": "8eb3d809-f26e-4f75-907d-dea5bf78cae1",
   "metadata": {},
   "outputs": [],
   "source": [
    "# drop the date columnn\n",
    "new_df.drop(columns=['date'], inplace = True)"
   ]
  },
  {
   "cell_type": "code",
   "execution_count": 24,
   "id": "7ae9f46b-c17e-451a-a42d-8928a0ee280d",
   "metadata": {},
   "outputs": [
    {
     "data": {
      "text/html": [
       "<div>\n",
       "<style scoped>\n",
       "    .dataframe tbody tr th:only-of-type {\n",
       "        vertical-align: middle;\n",
       "    }\n",
       "\n",
       "    .dataframe tbody tr th {\n",
       "        vertical-align: top;\n",
       "    }\n",
       "\n",
       "    .dataframe thead th {\n",
       "        text-align: right;\n",
       "    }\n",
       "</style>\n",
       "<table border=\"1\" class=\"dataframe\">\n",
       "  <thead>\n",
       "    <tr style=\"text-align: right;\">\n",
       "      <th></th>\n",
       "      <th>cmname</th>\n",
       "      <th>unit</th>\n",
       "      <th>category</th>\n",
       "      <th>price</th>\n",
       "      <th>day</th>\n",
       "      <th>month</th>\n",
       "      <th>year</th>\n",
       "    </tr>\n",
       "  </thead>\n",
       "  <tbody>\n",
       "    <tr>\n",
       "      <th>0</th>\n",
       "      <td>Wheat</td>\n",
       "      <td>KG</td>\n",
       "      <td>cereals and tubers</td>\n",
       "      <td>13.00</td>\n",
       "      <td>15</td>\n",
       "      <td>1</td>\n",
       "      <td>2004</td>\n",
       "    </tr>\n",
       "    <tr>\n",
       "      <th>1</th>\n",
       "      <td>Wheat</td>\n",
       "      <td>KG</td>\n",
       "      <td>cereals and tubers</td>\n",
       "      <td>13.00</td>\n",
       "      <td>15</td>\n",
       "      <td>2</td>\n",
       "      <td>2004</td>\n",
       "    </tr>\n",
       "    <tr>\n",
       "      <th>2</th>\n",
       "      <td>Wheat</td>\n",
       "      <td>KG</td>\n",
       "      <td>cereals and tubers</td>\n",
       "      <td>14.25</td>\n",
       "      <td>15</td>\n",
       "      <td>3</td>\n",
       "      <td>2004</td>\n",
       "    </tr>\n",
       "    <tr>\n",
       "      <th>3</th>\n",
       "      <td>Wheat</td>\n",
       "      <td>KG</td>\n",
       "      <td>cereals and tubers</td>\n",
       "      <td>12.50</td>\n",
       "      <td>15</td>\n",
       "      <td>4</td>\n",
       "      <td>2004</td>\n",
       "    </tr>\n",
       "    <tr>\n",
       "      <th>4</th>\n",
       "      <td>Wheat</td>\n",
       "      <td>KG</td>\n",
       "      <td>cereals and tubers</td>\n",
       "      <td>13.25</td>\n",
       "      <td>15</td>\n",
       "      <td>5</td>\n",
       "      <td>2004</td>\n",
       "    </tr>\n",
       "  </tbody>\n",
       "</table>\n",
       "</div>"
      ],
      "text/plain": [
       "  cmname unit            category  price  day  month  year\n",
       "0  Wheat   KG  cereals and tubers  13.00   15      1  2004\n",
       "1  Wheat   KG  cereals and tubers  13.00   15      2  2004\n",
       "2  Wheat   KG  cereals and tubers  14.25   15      3  2004\n",
       "3  Wheat   KG  cereals and tubers  12.50   15      4  2004\n",
       "4  Wheat   KG  cereals and tubers  13.25   15      5  2004"
      ]
     },
     "execution_count": 24,
     "metadata": {},
     "output_type": "execute_result"
    }
   ],
   "source": [
    "new_df.head()"
   ]
  },
  {
   "cell_type": "markdown",
   "id": "a9426041-e3f0-4f58-a625-310da1dcf4dd",
   "metadata": {},
   "source": [
    "# EDA"
   ]
  },
  {
   "cell_type": "code",
   "execution_count": 25,
   "id": "f397c3fa-be89-4bf3-915c-b4924a028a54",
   "metadata": {},
   "outputs": [
    {
     "name": "stdout",
     "output_type": "stream",
     "text": [
      "<class 'pandas.core.frame.DataFrame'>\n",
      "Index: 6704 entries, 0 to 7599\n",
      "Data columns (total 7 columns):\n",
      " #   Column    Non-Null Count  Dtype  \n",
      "---  ------    --------------  -----  \n",
      " 0   cmname    6704 non-null   object \n",
      " 1   unit      6704 non-null   object \n",
      " 2   category  6704 non-null   object \n",
      " 3   price     6704 non-null   float64\n",
      " 4   day       6704 non-null   int32  \n",
      " 5   month     6704 non-null   int32  \n",
      " 6   year      6704 non-null   int32  \n",
      "dtypes: float64(1), int32(3), object(3)\n",
      "memory usage: 340.4+ KB\n"
     ]
    }
   ],
   "source": [
    "new_df.info()"
   ]
  },
  {
   "cell_type": "code",
   "execution_count": 26,
   "id": "7e264d00-3e61-474a-9175-d9835675be26",
   "metadata": {},
   "outputs": [],
   "source": [
    "# the index does not tally because we removed observations that are not food in cell 13\n",
    "new_df.reset_index(drop=True, inplace= True)"
   ]
  },
  {
   "cell_type": "code",
   "execution_count": 27,
   "id": "6c14a01d-9401-460e-975c-2ee887da991b",
   "metadata": {},
   "outputs": [
    {
     "data": {
      "image/png": "[encoded data removed]",
      "text/plain": [
       "<Figure size 640x480 with 1 Axes>"
      ]
     },
     "metadata": {},
     "output_type": "display_data"
    },
    {
     "data": {
      "image/png": "[encoded data removed]",
      "text/plain": [
       "<Figure size 640x480 with 1 Axes>"
      ]
     },
     "metadata": {},
     "output_type": "display_data"
    },
    {
     "data": {
      "image/png": "[encoded data removed]",
      "text/plain": [
       "<Figure size 640x480 with 1 Axes>"
      ]
     },
     "metadata": {},
     "output_type": "display_data"
    },
    {
     "data": {
      "image/png": "[encoded data removed]",
      "text/plain": [
       "<Figure size 640x480 with 1 Axes>"
      ]
     },
     "metadata": {},
     "output_type": "display_data"
    }
   ],
   "source": [
    "cat_col = ['cmname', 'unit', 'category', 'month']\n",
    "for col in cat_col:\n",
    "    plt.figure()\n",
    "    sns.countplot(x = col, data = new_df)\n",
    "    plt.xticks(rotation= 90)"
   ]
  },
  {
   "cell_type": "code",
   "execution_count": 28,
   "id": "02deb346-e5d0-45b0-bf8d-86c047dbf03f",
   "metadata": {},
   "outputs": [
    {
     "data": {
      "text/plain": [
       "count    6704.000000\n",
       "mean       84.793985\n",
       "std        64.087915\n",
       "min         9.000000\n",
       "25%        34.753000\n",
       "50%        59.075000\n",
       "75%       133.930000\n",
       "max       301.430000\n",
       "Name: price, dtype: float64"
      ]
     },
     "execution_count": 28,
     "metadata": {},
     "output_type": "execute_result"
    }
   ],
   "source": [
    "# DISTRIBUTION OF NUMERICAL FEATURES\n",
    "new_df['price'].describe()"
   ]
  },
  {
   "cell_type": "code",
   "execution_count": 29,
   "id": "fb03c931-99a0-46e8-9ceb-a30eb80c52de",
   "metadata": {},
   "outputs": [
    {
     "data": {
      "image/png": "[encoded data removed]",
      "text/plain": [
       "<Figure size 640x480 with 1 Axes>"
      ]
     },
     "metadata": {},
     "output_type": "display_data"
    }
   ],
   "source": [
    "new_df['price'].plot(kind='hist', bins=20)\n",
    "plt.xlabel ('Price (in Rupees)')\n",
    "plt.title('Distribution of Price');\n"
   ]
  },
  {
   "cell_type": "code",
   "execution_count": 30,
   "id": "3c4481a0-78cf-4b1b-9388-b986db221dee",
   "metadata": {},
   "outputs": [
    {
     "data": {
      "image/png": "[encoded data removed]",
      "text/plain": [
       "<Figure size 640x480 with 1 Axes>"
      ]
     },
     "metadata": {},
     "output_type": "display_data"
    }
   ],
   "source": [
    "plt.boxplot(new_df['price'], vert = False);\n",
    "plt.xlabel ('Price (in Rupees)')\n",
    "plt.title('Distribution of Price');"
   ]
  },
  {
   "cell_type": "code",
   "execution_count": 31,
   "id": "c8f11f59-12e1-42b3-ae49-1b25f7d0b330",
   "metadata": {},
   "outputs": [],
   "source": [
    "# WHAT FACTORS CONTRIBUTE TO PRICE OF FOOD\n",
    "# firstly check if there is large difference in price of food"
   ]
  },
  {
   "cell_type": "code",
   "execution_count": 32,
   "id": "ce58a2ba-cd51-45ce-a540-47647e646efa",
   "metadata": {},
   "outputs": [
    {
     "data": {
      "image/png": "[encoded data removed]",
      "text/plain": [
       "<Figure size 640x480 with 1 Axes>"
      ]
     },
     "metadata": {},
     "output_type": "display_data"
    }
   ],
   "source": [
    "new_df.groupby('cmname')['price'].mean().plot(kind='bar');"
   ]
  },
  {
   "cell_type": "code",
   "execution_count": 33,
   "id": "069a6279-9b90-4bf8-9831-a14af4ad000a",
   "metadata": {},
   "outputs": [],
   "source": [
    "# there is variation in price of food as expected"
   ]
  },
  {
   "cell_type": "code",
   "execution_count": 34,
   "id": "f28c0470-bc24-4064-8b9a-3bc5a9ce2b16",
   "metadata": {},
   "outputs": [
    {
     "data": {
      "image/png": "[encoded data removed]",
      "text/plain": [
       "<Figure size 640x480 with 1 Axes>"
      ]
     },
     "metadata": {},
     "output_type": "display_data"
    }
   ],
   "source": [
    "new_df.groupby('category')['price'].mean().plot(kind='bar');"
   ]
  },
  {
   "cell_type": "code",
   "execution_count": 35,
   "id": "2528804d-99d5-46ea-864a-b746413a777e",
   "metadata": {},
   "outputs": [],
   "source": [
    "# Does a particular time of the year affect food price?"
   ]
  },
  {
   "cell_type": "code",
   "execution_count": 36,
   "id": "dd368d1d-174b-47a6-8ec2-abcbbcf6639c",
   "metadata": {},
   "outputs": [
    {
     "data": {
      "text/plain": [
       "<Axes: xlabel='month'>"
      ]
     },
     "execution_count": 36,
     "metadata": {},
     "output_type": "execute_result"
    },
    {
     "data": {
      "image/png": "[encoded data removed]",
      "text/plain": [
       "<Figure size 640x480 with 1 Axes>"
      ]
     },
     "metadata": {},
     "output_type": "display_data"
    }
   ],
   "source": [
    "new_df.groupby(['month'])['price'].mean().plot(kind='bar')"
   ]
  },
  {
   "cell_type": "code",
   "execution_count": 37,
   "id": "37562a61-2601-4c62-b290-690f05b34544",
   "metadata": {},
   "outputs": [],
   "source": [
    "# little difference in price between months"
   ]
  },
  {
   "cell_type": "code",
   "execution_count": 38,
   "id": "241cd8aa-0bd7-4334-9701-03e2ccff06cf",
   "metadata": {},
   "outputs": [
    {
     "data": {
      "image/png": "[encoded data removed]",
      "text/plain": [
       "<Figure size 640x480 with 1 Axes>"
      ]
     },
     "metadata": {},
     "output_type": "display_data"
    }
   ],
   "source": [
    "# let us check for year column\n",
    "new_df.groupby(['year'])['price'].mean().plot(kind='bar')\n",
    "plt.xlabel ('year')\n",
    "plt.ylabel ('Price(in Rupees)')\n",
    "plt.title('Price of food over 15 years');"
   ]
  },
  {
   "cell_type": "code",
   "execution_count": 39,
   "id": "d08a42f5-4302-4350-a3a0-70b4696d3534",
   "metadata": {},
   "outputs": [
    {
     "data": {
      "image/png": "[encoded data removed]",
      "text/plain": [
       "<Figure size 640x480 with 1 Axes>"
      ]
     },
     "metadata": {},
     "output_type": "display_data"
    }
   ],
   "source": [
    "new_df.groupby(['year'])['price'].mean().plot()\n",
    "plt.xlabel ('year')\n",
    "plt.ylabel ('Price(in Rupees)')\n",
    "plt.title('Price of food over 15 years');"
   ]
  },
  {
   "cell_type": "code",
   "execution_count": 40,
   "id": "b7499725-3df4-436e-8ede-80d962177418",
   "metadata": {},
   "outputs": [],
   "source": [
    "# there is an upward trend which could be due to many reasons inflation, changes in demand and supply etc"
   ]
  },
  {
   "cell_type": "code",
   "execution_count": 41,
   "id": "8491884c-885c-4cb2-ae67-0ca882393b37",
   "metadata": {},
   "outputs": [
    {
     "data": {
      "text/plain": [
       "Index(['cmname', 'unit', 'category', 'price', 'day', 'month', 'year'], dtype='object')"
      ]
     },
     "execution_count": 41,
     "metadata": {},
     "output_type": "execute_result"
    }
   ],
   "source": [
    "new_df.columns"
   ]
  },
  {
   "cell_type": "code",
   "execution_count": 42,
   "id": "c5e87331-179b-413f-b057-10618d2b2b55",
   "metadata": {},
   "outputs": [],
   "source": [
    "X = new_df.drop(columns=['price'])\n",
    "y = new_df['price'].values"
   ]
  },
  {
   "cell_type": "markdown",
   "id": "2016240e-f8ed-4b70-a543-2055bd68fe14",
   "metadata": {},
   "source": [
    "# Data Preprocessing"
   ]
  },
  {
   "cell_type": "code",
   "execution_count": 43,
   "id": "0400f348-1991-43be-80ce-083826661780",
   "metadata": {},
   "outputs": [],
   "source": [
    "# encode columns that are not numeric\n",
    "from sklearn.preprocessing import OneHotEncoder"
   ]
  },
  {
   "cell_type": "code",
   "execution_count": 44,
   "id": "ff25446d-d53d-4293-8aee-9796b28d2743",
   "metadata": {},
   "outputs": [],
   "source": [
    "encoder = OneHotEncoder()\n",
    "columns_to_encode = ['cmname', 'unit', 'category']\n",
    "encoded_data = encoder.fit_transform(new_df[columns_to_encode]).toarray()"
   ]
  },
  {
   "cell_type": "code",
   "execution_count": 45,
   "id": "195de5f4-540d-4e29-b9ac-abde750ededf",
   "metadata": {},
   "outputs": [],
   "source": [
    "encoded_col = encoder.get_feature_names_out(columns_to_encode)\n",
    "encoded_df = pd.DataFrame(encoded_data, columns = encoded_col)"
   ]
  },
  {
   "cell_type": "code",
   "execution_count": 46,
   "id": "e7441c1f-48b7-4234-be49-88d03c46ed5c",
   "metadata": {},
   "outputs": [],
   "source": [
    "final_df = pd.concat([new_df, encoded_df], axis =1)"
   ]
  },
  {
   "cell_type": "code",
   "execution_count": 47,
   "id": "1aaa806c-f158-466d-9df7-80526b92b950",
   "metadata": {},
   "outputs": [],
   "source": [
    "final_df.drop(columns = ['cmname','unit', 'category'], axis =1, inplace =True)"
   ]
  },
  {
   "cell_type": "code",
   "execution_count": 48,
   "id": "f242f347-0716-4110-9bf5-85d9ccea82ed",
   "metadata": {},
   "outputs": [
    {
     "name": "stdout",
     "output_type": "stream",
     "text": [
      "(5028, 24)\n",
      "(5028,)\n",
      "(1676, 24)\n",
      "(1676,)\n"
     ]
    }
   ],
   "source": [
    "# SPLIT DATA INTO TRAIN AND TEST\n",
    "from sklearn.model_selection import train_test_split\n",
    "\n",
    "\n",
    "X_train, X_test, y_train, y_test = train_test_split(final_df, y , test_size = .25, random_state = 8)\n",
    "print(X_train.shape)\n",
    "print(y_train.shape)\n",
    "print(X_test.shape)\n",
    "print(y_test.shape)"
   ]
  },
  {
   "cell_type": "markdown",
   "id": "a37260f6-ba3f-47c6-b57a-41b59bda400d",
   "metadata": {},
   "source": [
    "# Model Selection"
   ]
  },
  {
   "cell_type": "code",
   "execution_count": 49,
   "id": "c4dfaa56-cca7-465d-8437-23aaa5510106",
   "metadata": {},
   "outputs": [],
   "source": [
    "from sklearn.linear_model import Ridge\n",
    "from sklearn.linear_model import LogisticRegression\n",
    "from sklearn.tree import DecisionTreeRegressor\n",
    "from sklearn.model_selection import cross_val_score, KFold, RandomizedSearchCV"
   ]
  },
  {
   "cell_type": "code",
   "execution_count": 50,
   "id": "61145f6a-0d99-47ac-b6d4-1dd018c72e2f",
   "metadata": {},
   "outputs": [],
   "source": [
    "models = {\n",
    "    'Ridge Regression': Ridge(),\n",
    "    'Decision Tree': DecisionTreeRegressor(),\n",
    "    # 'Logistic Regression': LogisticRegression(),\n",
    "}"
   ]
  },
  {
   "cell_type": "code",
   "execution_count": 51,
   "id": "2348e1b6-bbbd-47bf-b53a-c7bb618ccdd5",
   "metadata": {},
   "outputs": [
    {
     "name": "stdout",
     "output_type": "stream",
     "text": [
      "accuracy of models are ; [0.9999999999999616, 0.9999916806880169]\n"
     ]
    }
   ],
   "source": [
    "result = []  #store the mean accuracy of the models\n",
    "\n",
    "for model in models.values():\n",
    "    kf = KFold(n_splits = 10, random_state = 43, shuffle = True)\n",
    "    cv_result = cross_val_score(model, X_train, y_train, cv=kf)\n",
    "    result.append(cv_result.mean())\n",
    "    # print(cv_result.mean())\n",
    "\n",
    "print('accuracy of models are ;', result)"
   ]
  },
  {
   "cell_type": "code",
   "execution_count": null,
   "id": "27812a2b-e699-4f6f-be98-4c31f900a799",
   "metadata": {},
   "outputs": [],
   "source": [
    "# Ridge model performs better than Decision Tree"
   ]
  },
  {
   "cell_type": "markdown",
   "id": "ac203660-224d-46a7-b2a4-6753d837172f",
   "metadata": {},
   "source": [
    "# Hyperparameter Tuning"
   ]
  },
  {
   "cell_type": "code",
   "execution_count": 54,
   "id": "48874bc8-7fb1-4e91-baa2-30f16fd3a137",
   "metadata": {},
   "outputs": [
    {
     "data": {
      "text/html": [
       "<style>#sk-container-id-2 {color: black;background-color: white;}#sk-container-id-2 pre{padding: 0;}#sk-container-id-2 div.sk-toggleable {background-color: white;}#sk-container-id-2 label.sk-toggleable__label {cursor: pointer;display: block;width: 100%;margin-bottom: 0;padding: 0.3em;box-sizing: border-box;text-align: center;}#sk-container-id-2 label.sk-toggleable__label-arrow:before {content: \"▸\";float: left;margin-right: 0.25em;color: #696969;}#sk-container-id-2 label.sk-toggleable__label-arrow:hover:before {color: black;}#sk-container-id-2 div.sk-estimator:hover label.sk-toggleable__label-arrow:before {color: black;}#sk-container-id-2 div.sk-toggleable__content {max-height: 0;max-width: 0;overflow: hidden;text-align: left;background-color: #f0f8ff;}#sk-container-id-2 div.sk-toggleable__content pre {margin: 0.2em;color: black;border-radius: 0.25em;background-color: #f0f8ff;}#sk-container-id-2 input.sk-toggleable__control:checked~div.sk-toggleable__content {max-height: 200px;max-width: 100%;overflow: auto;}#sk-container-id-2 input.sk-toggleable__control:checked~label.sk-toggleable__label-arrow:before {content: \"▾\";}#sk-container-id-2 div.sk-estimator input.sk-toggleable__control:checked~label.sk-toggleable__label {background-color: #d4ebff;}#sk-container-id-2 div.sk-label input.sk-toggleable__control:checked~label.sk-toggleable__label {background-color: #d4ebff;}#sk-container-id-2 input.sk-hidden--visually {border: 0;clip: rect(1px 1px 1px 1px);clip: rect(1px, 1px, 1px, 1px);height: 1px;margin: -1px;overflow: hidden;padding: 0;position: absolute;width: 1px;}#sk-container-id-2 div.sk-estimator {font-family: monospace;background-color: #f0f8ff;border: 1px dotted black;border-radius: 0.25em;box-sizing: border-box;margin-bottom: 0.5em;}#sk-container-id-2 div.sk-estimator:hover {background-color: #d4ebff;}#sk-container-id-2 div.sk-parallel-item::after {content: \"\";width: 100%;border-bottom: 1px solid gray;flex-grow: 1;}#sk-container-id-2 div.sk-label:hover label.sk-toggleable__label {background-color: #d4ebff;}#sk-container-id-2 div.sk-serial::before {content: \"\";position: absolute;border-left: 1px solid gray;box-sizing: border-box;top: 0;bottom: 0;left: 50%;z-index: 0;}#sk-container-id-2 div.sk-serial {display: flex;flex-direction: column;align-items: center;background-color: white;padding-right: 0.2em;padding-left: 0.2em;position: relative;}#sk-container-id-2 div.sk-item {position: relative;z-index: 1;}#sk-container-id-2 div.sk-parallel {display: flex;align-items: stretch;justify-content: center;background-color: white;position: relative;}#sk-container-id-2 div.sk-item::before, #sk-container-id-2 div.sk-parallel-item::before {content: \"\";position: absolute;border-left: 1px solid gray;box-sizing: border-box;top: 0;bottom: 0;left: 50%;z-index: -1;}#sk-container-id-2 div.sk-parallel-item {display: flex;flex-direction: column;z-index: 1;position: relative;background-color: white;}#sk-container-id-2 div.sk-parallel-item:first-child::after {align-self: flex-end;width: 50%;}#sk-container-id-2 div.sk-parallel-item:last-child::after {align-self: flex-start;width: 50%;}#sk-container-id-2 div.sk-parallel-item:only-child::after {width: 0;}#sk-container-id-2 div.sk-dashed-wrapped {border: 1px dashed gray;margin: 0 0.4em 0.5em 0.4em;box-sizing: border-box;padding-bottom: 0.4em;background-color: white;}#sk-container-id-2 div.sk-label label {font-family: monospace;font-weight: bold;display: inline-block;line-height: 1.2em;}#sk-container-id-2 div.sk-label-container {text-align: center;}#sk-container-id-2 div.sk-container {/* jupyter's `normalize.less` sets `[hidden] { display: none; }` but bootstrap.min.css set `[hidden] { display: none !important; }` so we also need the `!important` here to be able to override the default hidden behavior on the sphinx rendered scikit-learn.org. See: https://github.com/scikit-learn/scikit-learn/issues/21755 */display: inline-block !important;position: relative;}#sk-container-id-2 div.sk-text-repr-fallback {display: none;}</style><div id=\"sk-container-id-2\" class=\"sk-top-container\"><div class=\"sk-text-repr-fallback\"><pre>RandomizedSearchCV(cv=KFold(n_splits=10, random_state=20, shuffle=True),\n",
       "                   estimator=Ridge(), n_iter=2,\n",
       "                   param_distributions={&#x27;alpha&#x27;: array([0.001]),\n",
       "                                        &#x27;solver&#x27;: [&#x27;sag&#x27;, &#x27;lsqr&#x27;]})</pre><b>In a Jupyter environment, please rerun this cell to show the HTML representation or trust the notebook. <br />On GitHub, the HTML representation is unable to render, please try loading this page with nbviewer.org.</b></div><div class=\"sk-container\" hidden><div class=\"sk-item sk-dashed-wrapped\"><div class=\"sk-label-container\"><div class=\"sk-label sk-toggleable\"><input class=\"sk-toggleable__control sk-hidden--visually\" id=\"sk-estimator-id-4\" type=\"checkbox\" ><label for=\"sk-estimator-id-4\" class=\"sk-toggleable__label sk-toggleable__label-arrow\">RandomizedSearchCV</label><div class=\"sk-toggleable__content\"><pre>RandomizedSearchCV(cv=KFold(n_splits=10, random_state=20, shuffle=True),\n",
       "                   estimator=Ridge(), n_iter=2,\n",
       "                   param_distributions={&#x27;alpha&#x27;: array([0.001]),\n",
       "                                        &#x27;solver&#x27;: [&#x27;sag&#x27;, &#x27;lsqr&#x27;]})</pre></div></div></div><div class=\"sk-parallel\"><div class=\"sk-parallel-item\"><div class=\"sk-item\"><div class=\"sk-label-container\"><div class=\"sk-label sk-toggleable\"><input class=\"sk-toggleable__control sk-hidden--visually\" id=\"sk-estimator-id-5\" type=\"checkbox\" ><label for=\"sk-estimator-id-5\" class=\"sk-toggleable__label sk-toggleable__label-arrow\">estimator: Ridge</label><div class=\"sk-toggleable__content\"><pre>Ridge()</pre></div></div></div><div class=\"sk-serial\"><div class=\"sk-item\"><div class=\"sk-estimator sk-toggleable\"><input class=\"sk-toggleable__control sk-hidden--visually\" id=\"sk-estimator-id-6\" type=\"checkbox\" ><label for=\"sk-estimator-id-6\" class=\"sk-toggleable__label sk-toggleable__label-arrow\">Ridge</label><div class=\"sk-toggleable__content\"><pre>Ridge()</pre></div></div></div></div></div></div></div></div></div></div>"
      ],
      "text/plain": [
       "RandomizedSearchCV(cv=KFold(n_splits=10, random_state=20, shuffle=True),\n",
       "                   estimator=Ridge(), n_iter=2,\n",
       "                   param_distributions={'alpha': array([0.001]),\n",
       "                                        'solver': ['sag', 'lsqr']})"
      ]
     },
     "execution_count": 54,
     "metadata": {},
     "output_type": "execute_result"
    }
   ],
   "source": [
    "kf = KFold(n_splits = 10, random_state = 20, shuffle = True)\n",
    "param_grid = {'alpha': np.arange(0.001, 1, 10), 'solver': ['sag','lsqr']}\n",
    "\n",
    "ridge = Ridge()\n",
    "ridge_cv = RandomizedSearchCV(ridge, param_grid, cv = kf, n_iter= 2)\n",
    "ridge_cv.fit(X_train, y_train)"
   ]
  },
  {
   "cell_type": "code",
   "execution_count": 55,
   "id": "c9fa4308-da82-4d86-a8c5-ec506189b07e",
   "metadata": {},
   "outputs": [
    {
     "name": "stdout",
     "output_type": "stream",
     "text": [
      "{'solver': 'lsqr', 'alpha': 0.001} 0.9999999952682346\n"
     ]
    }
   ],
   "source": [
    "print(ridge_cv.best_params_, ridge_cv.best_score_)"
   ]
  },
  {
   "cell_type": "code",
   "execution_count": 57,
   "id": "423f5595-2a56-4ab0-a1d1-1f3576451cae",
   "metadata": {},
   "outputs": [
    {
     "data": {
      "text/plain": [
       "0.9999999955943879"
      ]
     },
     "execution_count": 57,
     "metadata": {},
     "output_type": "execute_result"
    }
   ],
   "source": [
    "test_score = ridge_cv.score(X_test,y_test)\n",
    "test_score"
   ]
  },
  {
   "cell_type": "code",
   "execution_count": null,
   "id": "91557fd2-0366-4427-8ab4-4317e063021a",
   "metadata": {},
   "outputs": [],
   "source": []
  },
  {
   "cell_type": "code",
   "execution_count": null,
   "id": "5d5735ca-1fad-48ac-a6b1-24bd399b1965",
   "metadata": {},
   "outputs": [],
   "source": []
  }
 ],
 "metadata": {
  "kernelspec": {
   "display_name": "Python 3 (ipykernel)",
   "language": "python",
   "name": "python3"
  },
  "language_info": {
   "codemirror_mode": {
    "name": "ipython",
    "version": 3
   },
   "file_extension": ".py",
   "mimetype": "text/x-python",
   "name": "python",
   "nbconvert_exporter": "python",
   "pygments_lexer": "ipython3",
   "version": "3.11.7"
  }
 },
 "nbformat": 4,
 "nbformat_minor": 5
}
